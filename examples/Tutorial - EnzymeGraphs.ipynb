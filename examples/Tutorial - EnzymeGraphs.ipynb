{
 "cells": [
  {
   "cell_type": "markdown",
   "metadata": {},
   "source": [
    "# KEGGutils Tutorial: Enzymatic correlation graphs \n",
    "***"
   ]
  },
  {
   "cell_type": "markdown",
   "metadata": {},
   "source": [
    "## Getting Started\n",
    "\n",
    "### Installing KEGGutils\n",
    "`KEGGutils` is available as a **PyPi** package  and can be easily installed using `pip` via `pip install KEGGutils`,\n",
    "this should be enough to get you going. \n",
    "Alternatively you can visit the project's **Github** https://github.com/filippocastelli/KEGGutils and the **PyPi** page https://pypi.org/project/KEGGutils/ for a manual install."
   ]
  },
  {
   "cell_type": "markdown",
   "metadata": {},
   "source": [
    "### First things first\n",
    "Let's import `KEGGutils` and `networkx`, on which `KEGGutils` is based, with aliases ( with maybe some module path scope adjusting first )"
   ]
  },
  {
   "cell_type": "code",
   "execution_count": 1,
   "metadata": {},
   "outputs": [],
   "source": [
    "import os,sys,inspect\n",
    "currentdir = os.path.dirname(os.path.abspath(inspect.getfile(inspect.currentframe())))\n",
    "parentdir = os.path.dirname(currentdir)\n",
    "sys.path.insert(0,parentdir)"
   ]
  },
  {
   "cell_type": "code",
   "execution_count": 2,
   "metadata": {},
   "outputs": [],
   "source": [
    "import KEGGutils as kg\n",
    "import networkx as nx"
   ]
  },
  {
   "cell_type": "markdown",
   "metadata": {},
   "source": [
    "check that the latest version of `KEGGutils` is installed"
   ]
  },
  {
   "cell_type": "code",
   "execution_count": 3,
   "metadata": {},
   "outputs": [
    {
     "data": {
      "text/plain": [
       "'0.1.4'"
      ]
     },
     "execution_count": 3,
     "metadata": {},
     "output_type": "execute_result"
    }
   ],
   "source": [
    "kg.__version__"
   ]
  },
  {
   "cell_type": "markdown",
   "metadata": {},
   "source": [
    "we should be ready to go!\n",
    "\n",
    "we can set a directory for our downloaded files, or we can use the default one:"
   ]
  },
  {
   "cell_type": "code",
   "execution_count": 4,
   "metadata": {},
   "outputs": [
    {
     "data": {
      "text/plain": [
       "'./kegg_downloads/'"
      ]
     },
     "execution_count": 4,
     "metadata": {},
     "output_type": "execute_result"
    }
   ],
   "source": [
    "kg.download_dir"
   ]
  },
  {
   "cell_type": "markdown",
   "metadata": {},
   "source": [
    "please notice that the default directory is a runtime variable, remember to **change it every time `KEGGutils` is reloaded** (maybe we'll change that in the future).  "
   ]
  },
  {
   "cell_type": "markdown",
   "metadata": {},
   "source": [
    "to ensure that we use the latest available data we can remove all previously downloaded files, if it's your first time using `KEGGutils` you should have no problems."
   ]
  },
  {
   "cell_type": "code",
   "execution_count": 5,
   "metadata": {},
   "outputs": [
    {
     "name": "stdout",
     "output_type": "stream",
     "text": [
      "> deleting the following files from ./kegg_downloads/\n",
      "./kegg_downloads\\disease-list\n",
      "./kegg_downloads\\ds-H00773-description\n",
      "./kegg_downloads\\enzyme-hsa-link\n",
      "./kegg_downloads\\hsa-disease-link\n",
      "./kegg_downloads\\organism-code-list\n",
      "./kegg_downloads\\reaction-enzyme-link\n"
     ]
    }
   ],
   "source": [
    "kg.delete_cached_files()"
   ]
  },
  {
   "cell_type": "markdown",
   "metadata": {},
   "source": [
    "### The interesting stuff"
   ]
  },
  {
   "cell_type": "markdown",
   "metadata": {},
   "source": [
    "let's download the disease list from KEGG:"
   ]
  },
  {
   "cell_type": "code",
   "execution_count": 6,
   "metadata": {},
   "outputs": [
    {
     "name": "stdout",
     "output_type": "stream",
     "text": [
      "> Downloading disease-list from KEGG at http://rest.kegg.jp/list/disease\n",
      "succesfully downloaded disease-list\n"
     ]
    }
   ],
   "source": [
    "kegg_diseases = kg.keggapi_list(\"disease\")"
   ]
  },
  {
   "cell_type": "code",
   "execution_count": 7,
   "metadata": {},
   "outputs": [
    {
     "data": {
      "text/plain": [
       "['ds:H00001',\n",
       " 'ds:H00002',\n",
       " 'ds:H00003',\n",
       " 'ds:H00004',\n",
       " 'ds:H00005',\n",
       " 'ds:H00006',\n",
       " 'ds:H00007',\n",
       " 'ds:H00008',\n",
       " 'ds:H00009',\n",
       " 'ds:H00010']"
      ]
     },
     "execution_count": 7,
     "metadata": {},
     "output_type": "execute_result"
    }
   ],
   "source": [
    "kegg_diseases[:10] "
   ]
  },
  {
   "cell_type": "markdown",
   "metadata": {},
   "source": [
    "we can obtain some description on the `ds:H00773` disease or really any kind of KEGG entry using `get_infos()`"
   ]
  },
  {
   "cell_type": "code",
   "execution_count": 8,
   "metadata": {},
   "outputs": [
    {
     "name": "stdout",
     "output_type": "stream",
     "text": [
      " Prints KEGG infos for a given database item \n",
      "    Parameters:\n",
      "        :item (str): KEGG item you want infos about\n",
      "        :verbose (Bool), False: if True get full KEGG description, if False get only first 4 lines\n",
      "        \n"
     ]
    }
   ],
   "source": [
    "print(kg.get_infos.__doc__)"
   ]
  },
  {
   "cell_type": "code",
   "execution_count": 9,
   "metadata": {},
   "outputs": [
    {
     "name": "stdout",
     "output_type": "stream",
     "text": [
      "Infos on ds:H00773 from KEGG:\n",
      "\n",
      "NAME        Autosomal dominant mental retardation\n",
      "DESCRIPTION Mental retardation (MR) is a neurodevelopmental disorder characterized by low intelligence quotient (IQ) and deficits in adaptive behaviors. Most MR genes identified so far were either located on the X chromosome or are associated with an autosomal recessive mode of inheritance. Recently, a lot of genes associated with autosomal dominant mental retardation have been identified.\n",
      "CATEGORY    Mental and behavioural disorder\n"
     ]
    }
   ],
   "source": [
    "kg.get_infos(\"ds:H00773\", verbose = False)"
   ]
  },
  {
   "cell_type": "markdown",
   "metadata": {},
   "source": [
    "enabling the `verbose` option will show the full description."
   ]
  },
  {
   "cell_type": "markdown",
   "metadata": {},
   "source": [
    "let's try to download the bipartite graph linking each disease to a set of genes by using `kegg_graph()`, you must specify the source and the target categories: note that human genes are referred with the `hsa` key.\n",
    "\n",
    "You can use the `force_download` option to download the file again overwriting previous copies that you may have already downloaded"
   ]
  },
  {
   "cell_type": "code",
   "execution_count": 10,
   "metadata": {},
   "outputs": [
    {
     "name": "stdout",
     "output_type": "stream",
     "text": [
      "Returns a NetworkX bipartite link graph with nodes from source and target KEGG databases \n",
      "    \n",
      "    Parameters\n",
      "    ----------\n",
      "    source : str\n",
      "        source database\n",
      "    target : str\n",
      "        target database\n",
      "    force_download : bool, optional\n",
      "        if set to True overwrites pre-existing database file with the same name (the default is False, which [default_description])\n",
      "    \n",
      "    Returns\n",
      "    -------\n",
      "    graph\n",
      "        bipartite link graph\n",
      "    \n"
     ]
    }
   ],
   "source": [
    "print(kg.kegg_link_graph.__doc__)"
   ]
  },
  {
   "cell_type": "code",
   "execution_count": 11,
   "metadata": {},
   "outputs": [
    {
     "name": "stdout",
     "output_type": "stream",
     "text": [
      "> Downloading hsa-disease-link from KEGG at http://rest.kegg.jp/link/hsa/disease\n",
      "succesfully downloaded hsa-disease-link\n"
     ]
    }
   ],
   "source": [
    "dis_gene = kg.kegg_link_graph(\"disease\", \"hsa\", force_download = False)"
   ]
  },
  {
   "cell_type": "markdown",
   "metadata": {},
   "source": [
    "All `KEGGutils` graph nodes have a `nodetype` attribute which helps us differentiate between different objects in a graph:"
   ]
  },
  {
   "cell_type": "code",
   "execution_count": 12,
   "metadata": {},
   "outputs": [
    {
     "data": {
      "text/plain": [
       "'disease'"
      ]
     },
     "execution_count": 12,
     "metadata": {},
     "output_type": "execute_result"
    }
   ],
   "source": [
    "nx.get_node_attributes(dis_gene, \"nodetype\")['ds:H00773']"
   ]
  },
  {
   "cell_type": "markdown",
   "metadata": {},
   "source": [
    "the list of nodes that are linked to a particular given node can be obtained the same way as with every `networkx` graph"
   ]
  },
  {
   "cell_type": "code",
   "execution_count": 13,
   "metadata": {},
   "outputs": [
    {
     "data": {
      "text/plain": [
       "AtlasView({'hsa:55777': {}, 'hsa:81704': {}, 'hsa:1013': {}, 'hsa:84623': {}, 'hsa:8831': {}, 'hsa:2904': {}, 'hsa:1859': {}, 'hsa:2902': {}, 'hsa:547': {}, 'hsa:10369': {}, 'hsa:2036': {}, 'hsa:57492': {}, 'hsa:1778': {}, 'hsa:8289': {}, 'hsa:6598': {}, 'hsa:6597': {}, 'hsa:55690': {}, 'hsa:57459': {}, 'hsa:1499': {}, 'hsa:4208': {}, 'hsa:10664': {}, 'hsa:10472': {}, 'hsa:55209': {}, 'hsa:10522': {}, 'hsa:27245': {}, 'hsa:26053': {}, 'hsa:6664': {}, 'hsa:26040': {}, 'hsa:10771': {}, 'hsa:5813': {}, 'hsa:7994': {}, 'hsa:1804': {}, 'hsa:10087': {}, 'hsa:5528': {}, 'hsa:5518': {}, 'hsa:1917': {}, 'hsa:23040': {}, 'hsa:283489': {}, 'hsa:2782': {}, 'hsa:3097': {}, 'hsa:7204': {}, 'hsa:23152': {}, 'hsa:56479': {}, 'hsa:10274': {}, 'hsa:5879': {}, 'hsa:9320': {}, 'hsa:80155': {}, 'hsa:51111': {}, 'hsa:55870': {}, 'hsa:815': {}, 'hsa:816': {}, 'hsa:9853': {}})"
      ]
     },
     "execution_count": 13,
     "metadata": {},
     "output_type": "execute_result"
    }
   ],
   "source": [
    "dis_gene['ds:H00773']"
   ]
  },
  {
   "cell_type": "markdown",
   "metadata": {},
   "source": [
    "or using `kg.linked_nodes`, which returns a dictionary with each node and its `nodetype`"
   ]
  },
  {
   "cell_type": "code",
   "execution_count": 14,
   "metadata": {},
   "outputs": [
    {
     "name": "stdout",
     "output_type": "stream",
     "text": [
      "Linked Nodes:\n",
      "        Returns all nodes in graph linked to node\n",
      "    \n",
      "    Parameters:\n",
      "        :graph (Graph): input graph, has to be generated via kegg_link_graph()\n",
      "        :node (str): name of a node in graph\n",
      "        \n",
      "    Returns:\n",
      "        :linked_nodes (dict): dict of linked nodes { node: nodetype}\n",
      "\n",
      "    .. seealso:: kegg_link_graph()\n",
      "        \n"
     ]
    }
   ],
   "source": [
    "print(kg.linked_nodes.__doc__)"
   ]
  },
  {
   "cell_type": "code",
   "execution_count": 15,
   "metadata": {},
   "outputs": [],
   "source": [
    "ds_genes = kg.linked_nodes(dis_gene, 'ds:H00773')"
   ]
  },
  {
   "cell_type": "markdown",
   "metadata": {},
   "source": [
    "in this case we obviously expect all the linked node to be human genes marked with `hsa`"
   ]
  },
  {
   "cell_type": "code",
   "execution_count": 16,
   "metadata": {},
   "outputs": [
    {
     "data": {
      "text/plain": [
       "[('hsa:55777', 'hsa'),\n",
       " ('hsa:81704', 'hsa'),\n",
       " ('hsa:1013', 'hsa'),\n",
       " ('hsa:84623', 'hsa'),\n",
       " ('hsa:8831', 'hsa'),\n",
       " ('hsa:2904', 'hsa'),\n",
       " ('hsa:1859', 'hsa'),\n",
       " ('hsa:2902', 'hsa'),\n",
       " ('hsa:547', 'hsa'),\n",
       " ('hsa:10369', 'hsa')]"
      ]
     },
     "execution_count": 16,
     "metadata": {},
     "output_type": "execute_result"
    }
   ],
   "source": [
    "list(ds_genes.items())[:10]"
   ]
  },
  {
   "cell_type": "markdown",
   "metadata": {},
   "source": [
    "we can find every enzyme associated with each of these genes using the gene-enzyme database from **KEGG**, which we download the same way as the previous one"
   ]
  },
  {
   "cell_type": "code",
   "execution_count": 17,
   "metadata": {},
   "outputs": [
    {
     "name": "stdout",
     "output_type": "stream",
     "text": [
      "> Downloading enzyme-hsa-link from KEGG at http://rest.kegg.jp/link/enzyme/hsa\n",
      "succesfully downloaded enzyme-hsa-link\n"
     ]
    }
   ],
   "source": [
    "gene_enzyme = kg.kegg_link_graph(\"hsa\", \"enzyme\")"
   ]
  },
  {
   "cell_type": "markdown",
   "metadata": {},
   "source": [
    "it's possible to use the gene list we obtained before to narrow down a search on the complete KEGG *gene-enzyme* database with `kg.neighbor_graph()`: "
   ]
  },
  {
   "cell_type": "code",
   "execution_count": 18,
   "metadata": {},
   "outputs": [
    {
     "name": "stdout",
     "output_type": "stream",
     "text": [
      "Neighbor Subgraph\n",
      "    \n",
      "    Given a Graph and a node list returns the subgraph generated with the nodes\n",
      "    in the node dict, the first neighbors of those nodes, and the edges between\n",
      "    them\n",
      "    \n",
      "    \n",
      "    Parameters:\n",
      "        :kegg_graph (Graph): input graph, has to be generated via kegg_link_graph()\n",
      "        :node_dict (dict): dict of input nodes\n",
      "        :name (str): optional, name of the graph\n",
      "        \n",
      "    Returns:\n",
      "        :neighbor_graph (Graph): graph of nodelist, first neighbors of those nodes        and edges between them\n",
      "    .. seealso:: kegg_link_graph()\n",
      "    \n"
     ]
    }
   ],
   "source": [
    "print(kg.neighbor_graph.__doc__)"
   ]
  },
  {
   "cell_type": "code",
   "execution_count": 19,
   "metadata": {},
   "outputs": [],
   "source": [
    "ds_gene_enzyme = kg.neighbor_graph(gene_enzyme,\n",
    "                                   ds_genes,\n",
    "                                   keep_isolated_nodes = True,\n",
    "                                   name = \"ds_gene_enzyme\")"
   ]
  },
  {
   "cell_type": "markdown",
   "metadata": {},
   "source": [
    "the function returns a subgraph of `gene_enzyme` selecting both `ds_genes` nodes and their neighbors in the original graph.\n",
    "\n",
    "Not all `ds_genes` are actually present in `gene_enzyme`, we can represent them as isolated nodes in the new graph using the `keep_isolated_nodes` option"
   ]
  },
  {
   "cell_type": "markdown",
   "metadata": {},
   "source": [
    "Graphic functionality is provided by `kg.draw()`"
   ]
  },
  {
   "cell_type": "code",
   "execution_count": 20,
   "metadata": {
    "scrolled": true
   },
   "outputs": [
    {
     "name": "stdout",
     "output_type": "stream",
     "text": [
      "Graph drawing made a bit easier\n",
      "    \n",
      "    Parameters:\n",
      "        :graph (Graph): input graph, has to be generated via kegg_link_graph()\n",
      "        :layout (str): layout type, choose from 'bipartite_layout',        'circular_layout','kamada_kawai_layout','random_layout',\\ 'shell_layout',        'spring_layout','spectral_layout'\n",
      "        :filename (str): if a filename is selected saves the plot as filename.png\n",
      "        :title (str): title for the graph\n",
      "        :return_ax: if True returns ax for plot\n",
      "        \n",
      "    Returns:\n",
      "        :ax (list): optional ax for the plot\n",
      "\n",
      "\n",
      "        \n"
     ]
    }
   ],
   "source": [
    "print(kg.draw.__doc__)"
   ]
  },
  {
   "cell_type": "code",
   "execution_count": 21,
   "metadata": {},
   "outputs": [
    {
     "name": "stderr",
     "output_type": "stream",
     "text": [
      "C:\\Users\\filip\\Anaconda3\\lib\\site-packages\\networkx\\drawing\\nx_pylab.py:611: MatplotlibDeprecationWarning: isinstance(..., numbers.Number)\n",
      "  if cb.is_numlike(alpha):\n"
     ]
    },
    {
     "data": {
      "image/png": "[encoded data removed]",
      "text/plain": [
       "<Figure size 432x288 with 1 Axes>"
      ]
     },
     "metadata": {
      "needs_background": "light"
     },
     "output_type": "display_data"
    }
   ],
   "source": [
    "kg.draw(ds_gene_enzyme, layout = \"random_layout\")"
   ]
  },
  {
   "cell_type": "markdown",
   "metadata": {},
   "source": [
    "we see that the actual common enzymes between those obtained from `dis_gen` and those we found on `gene_enzyme` are very few"
   ]
  },
  {
   "cell_type": "code",
   "execution_count": 22,
   "metadata": {},
   "outputs": [
    {
     "data": {
      "text/plain": [
       "{'hsa:1859',\n",
       " 'hsa:51111',\n",
       " 'hsa:55870',\n",
       " 'hsa:7204',\n",
       " 'hsa:7994',\n",
       " 'hsa:815',\n",
       " 'hsa:816',\n",
       " 'hsa:9320'}"
      ]
     },
     "execution_count": 22,
     "metadata": {},
     "output_type": "execute_result"
    }
   ],
   "source": [
    "set(ds_genes.keys()) & set(gene_enzyme.nodes)"
   ]
  },
  {
   "cell_type": "markdown",
   "metadata": {},
   "source": [
    "Le'ts download the *enzyme-reaction* graph from **KEGG** for a last step"
   ]
  },
  {
   "cell_type": "code",
   "execution_count": 23,
   "metadata": {},
   "outputs": [
    {
     "name": "stdout",
     "output_type": "stream",
     "text": [
      "> Downloading reaction-enzyme-link from KEGG at http://rest.kegg.jp/link/reaction/enzyme\n",
      "succesfully downloaded reaction-enzyme-link\n"
     ]
    }
   ],
   "source": [
    "enzyme_reaction = kg.kegg_link_graph(\"enzyme\", \"reaction\")"
   ]
  },
  {
   "cell_type": "markdown",
   "metadata": {},
   "source": [
    "using the same mechanism as before we get the *enzyme-reaction* graph"
   ]
  },
  {
   "cell_type": "markdown",
   "metadata": {},
   "source": [
    "we can get every node of a particular `nodetype` in a graph using `kg.get_nodes_by_nodetype`:"
   ]
  },
  {
   "cell_type": "code",
   "execution_count": 24,
   "metadata": {
    "scrolled": true
   },
   "outputs": [
    {
     "name": "stdout",
     "output_type": "stream",
     "text": [
      "Given a KEGG graph returns all the nodes for a given nodetype\n",
      "    \n",
      "    Parameters:\n",
      "        :kegg_graph (Graph): input graph, has to be generated via kegg_link_graph()\n",
      "        :nodetype (str): nodetype, is generally a <database> KEGG name\n",
      "        \n",
      "    Returns:\n",
      "        :nodedict (dict): dict of nodes and corresponding nodetype\n",
      "    Example:\n",
      "        >>> KEGG_graph = kegg_link_graph(\"hsa\", \"disease\")\n",
      "        >>> nodedict = get_nodes_by_nodetype(KEGG_graph, \"hsa\")\n",
      "        >>> list(nodedict.items())[:5]\n",
      "        [('hsa:7428', 'hsa'),\n",
      "         ('hsa:4233', 'hsa'),\n",
      "         ('hsa:2271', 'hsa'),\n",
      "         ('hsa:201163', 'hsa'),\n",
      "         ('hsa:7030', 'hsa')]\n",
      "\n",
      "    .. seealso:: kegg_link_graph()\n",
      "        \n"
     ]
    }
   ],
   "source": [
    "print(kg.get_nodes_by_nodetype.__doc__)"
   ]
  },
  {
   "cell_type": "code",
   "execution_count": 25,
   "metadata": {},
   "outputs": [],
   "source": [
    "ds_enzymes = kg.get_nodes_by_nodetype(ds_gene_enzyme, \"enzyme\")"
   ]
  },
  {
   "cell_type": "code",
   "execution_count": 26,
   "metadata": {
    "scrolled": true
   },
   "outputs": [
    {
     "data": {
      "text/plain": [
       "['ec:2.7.11.1',\n",
       " 'ec:2.7.11.17',\n",
       " 'ec:2.3.2.26',\n",
       " 'ec:2.1.1.43',\n",
       " 'ec:2.7.12.1',\n",
       " 'ec:2.3.1.48']"
      ]
     },
     "execution_count": 26,
     "metadata": {},
     "output_type": "execute_result"
    }
   ],
   "source": [
    "list(ds_enzymes.keys())"
   ]
  },
  {
   "cell_type": "markdown",
   "metadata": {},
   "source": [
    "the same `neighbor_graph()` function as before is used to calculated a subgraph of `enzyme_reaction`"
   ]
  },
  {
   "cell_type": "code",
   "execution_count": 27,
   "metadata": {},
   "outputs": [],
   "source": [
    "ds_enzyme_reaction = kg.neighbor_graph(enzyme_reaction,\n",
    "                                       ds_enzymes,\n",
    "                                       keep_isolated_nodes = True,\n",
    "                                       name = \"ds_enzyme_reaction\" )"
   ]
  },
  {
   "cell_type": "code",
   "execution_count": 28,
   "metadata": {},
   "outputs": [
    {
     "data": {
      "image/png": "[encoded data removed]",
      "text/plain": [
       "<Figure size 432x288 with 1 Axes>"
      ]
     },
     "metadata": {
      "needs_background": "light"
     },
     "output_type": "display_data"
    }
   ],
   "source": [
    "kg.draw(ds_enzyme_reaction, layout = \"kamada_kawai_layout\")"
   ]
  },
  {
   "cell_type": "markdown",
   "metadata": {},
   "source": [
    "we can count all the reactions in the graph"
   ]
  },
  {
   "cell_type": "code",
   "execution_count": 29,
   "metadata": {},
   "outputs": [
    {
     "data": {
      "text/plain": [
       "['rn:R03632',\n",
       " 'rn:R02884',\n",
       " 'rn:R00162',\n",
       " 'rn:R03938',\n",
       " 'rn:R03552',\n",
       " 'rn:R04866',\n",
       " 'rn:R02584',\n",
       " 'rn:R04867',\n",
       " 'rn:R03875']"
      ]
     },
     "execution_count": 29,
     "metadata": {},
     "output_type": "execute_result"
    }
   ],
   "source": [
    "ds_reactions = kg.get_nodes_by_nodetype(ds_enzyme_reaction, \"reaction\")\n",
    "list(ds_reactions.keys())"
   ]
  },
  {
   "cell_type": "markdown",
   "metadata": {},
   "source": [
    "we want now to create a projected graph in which we link two enzymes if they appear in the same reaction: we can use the `projected_graph()`function that does exactly that"
   ]
  },
  {
   "cell_type": "code",
   "execution_count": 30,
   "metadata": {},
   "outputs": [
    {
     "name": "stdout",
     "output_type": "stream",
     "text": [
      "Calculates the projected graph respect to a node list     \n",
      "    Parameters:\n",
      "        :kegg_graph (Graph): input graph, has to be generated via kegg_link_graph()\n",
      "        :nodelist (list): list of nodes\n",
      "        :multigraph (bool): if True \n",
      "        :name (str): optional name of the graph\n",
      "        \n",
      "    Returns:\n",
      "        :descendant_graph (Graph): graph of descendant nodes\n",
      "    .. seealso:: kegg_link_graph()\n",
      "    \n"
     ]
    }
   ],
   "source": [
    "print(kg.projected_graph.__doc__)"
   ]
  },
  {
   "cell_type": "markdown",
   "metadata": {},
   "source": [
    "here we want to project the graph on the enzymes set that we obtain from `ds_gene_enzyme` using `get_nodetype_nodes()`"
   ]
  },
  {
   "cell_type": "code",
   "execution_count": 31,
   "metadata": {},
   "outputs": [],
   "source": [
    "ds_enzymes = kg.get_nodes_by_nodetype(ds_gene_enzyme, \"enzyme\")"
   ]
  },
  {
   "cell_type": "code",
   "execution_count": 32,
   "metadata": {
    "scrolled": true
   },
   "outputs": [
    {
     "data": {
      "text/plain": [
       "['ec:2.7.11.1',\n",
       " 'ec:2.7.11.17',\n",
       " 'ec:2.3.2.26',\n",
       " 'ec:2.1.1.43',\n",
       " 'ec:2.7.12.1',\n",
       " 'ec:2.3.1.48']"
      ]
     },
     "execution_count": 32,
     "metadata": {},
     "output_type": "execute_result"
    }
   ],
   "source": [
    "list(ds_enzymes.keys())"
   ]
  },
  {
   "cell_type": "markdown",
   "metadata": {},
   "source": [
    "now we can finally project `ds_enzyme_reaction` onto the `ds_enzymes` set to get our enzyme correlation graph"
   ]
  },
  {
   "cell_type": "code",
   "execution_count": 33,
   "metadata": {},
   "outputs": [],
   "source": [
    "ds_enzyme_enzyme = kg.projected_graph(ds_enzyme_reaction, ds_enzymes, name = \"ds_enzyme_enzyme\")"
   ]
  },
  {
   "cell_type": "code",
   "execution_count": 34,
   "metadata": {},
   "outputs": [
    {
     "data": {
      "image/png": "[encoded data removed]",
      "text/plain": [
       "<Figure size 432x288 with 1 Axes>"
      ]
     },
     "metadata": {
      "needs_background": "light"
     },
     "output_type": "display_data"
    }
   ],
   "source": [
    "kg.draw(ds_enzyme_enzyme)"
   ]
  },
  {
   "cell_type": "code",
   "execution_count": null,
   "metadata": {},
   "outputs": [],
   "source": []
  }
 ],
 "metadata": {
  "kernelspec": {
   "display_name": "Python 3",
   "language": "python",
   "name": "python3"
  },
  "language_info": {
   "codemirror_mode": {
    "name": "ipython",
    "version": 3
   },
   "file_extension": ".py",
   "mimetype": "text/x-python",
   "name": "python",
   "nbconvert_exporter": "python",
   "pygments_lexer": "ipython3",
   "version": "3.6.8"
  }
 },
 "nbformat": 4,
 "nbformat_minor": 2
}
