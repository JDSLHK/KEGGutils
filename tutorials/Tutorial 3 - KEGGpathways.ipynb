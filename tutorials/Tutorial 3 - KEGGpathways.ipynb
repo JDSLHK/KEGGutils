{
 "cells": [
  {
   "cell_type": "markdown",
   "metadata": {},
   "source": [
    "# KEGGutils Tutorial 3 : `KEGGpathway`s\n",
    "## .... how to deal with KEGG Pathways\n",
    "***"
   ]
  },
  {
   "cell_type": "markdown",
   "metadata": {},
   "source": [
    "<img src=\"../img/logo_cut.png\" alt=\"logo\" style=\"width: 300px;\"/>"
   ]
  },
  {
   "cell_type": "markdown",
   "metadata": {},
   "source": [
    "### First things first\n",
    "Let's make sure we imported `KEGGutils` ( and that we can find it in scope if we did not install it )"
   ]
  },
  {
   "cell_type": "code",
   "execution_count": 1,
   "metadata": {},
   "outputs": [],
   "source": [
    "import os,sys,inspect\n",
    "currentdir = os.path.dirname(os.path.abspath(inspect.getfile(inspect.currentframe())))\n",
    "parentdir = os.path.dirname(currentdir)\n",
    "sys.path.insert(0,parentdir)"
   ]
  },
  {
   "cell_type": "code",
   "execution_count": 2,
   "metadata": {},
   "outputs": [],
   "source": [
    "import KEGGutils as kg\n",
    "import networkx as nx"
   ]
  },
  {
   "cell_type": "markdown",
   "metadata": {},
   "source": [
    "and that that we have the last available version"
   ]
  },
  {
   "cell_type": "code",
   "execution_count": 3,
   "metadata": {},
   "outputs": [
    {
     "data": {
      "text/plain": [
       "'0.3.0'"
      ]
     },
     "execution_count": 3,
     "metadata": {},
     "output_type": "execute_result"
    }
   ],
   "source": [
    "kg.__version__"
   ]
  },
  {
   "cell_type": "markdown",
   "metadata": {},
   "source": [
    "let's remove the cached files to use the freshest available data"
   ]
  },
  {
   "cell_type": "code",
   "execution_count": 4,
   "metadata": {},
   "outputs": [
    {
     "name": "stdout",
     "output_type": "stream",
     "text": [
      "> deleting the following files from C:\\Users\\filippo.castelli4\\Documents\\GitHub\\KEGGutils\\tutorials\\kegg_downloads\n",
      "C:\\Users\\filippo.castelli4\\Documents\\GitHub\\KEGGutils\\tutorials\\kegg_downloads\\disease-info\n",
      "C:\\Users\\filippo.castelli4\\Documents\\GitHub\\KEGGutils\\tutorials\\kegg_downloads\\ds-H00773-description\n",
      "C:\\Users\\filippo.castelli4\\Documents\\GitHub\\KEGGutils\\tutorials\\kegg_downloads\\enzyme-hsa-link\n",
      "C:\\Users\\filippo.castelli4\\Documents\\GitHub\\KEGGutils\\tutorials\\kegg_downloads\\enzyme-info\n",
      "C:\\Users\\filippo.castelli4\\Documents\\GitHub\\KEGGutils\\tutorials\\kegg_downloads\\hsa-disease-link\n",
      "C:\\Users\\filippo.castelli4\\Documents\\GitHub\\KEGGutils\\tutorials\\kegg_downloads\\hsa-info\n",
      "C:\\Users\\filippo.castelli4\\Documents\\GitHub\\KEGGutils\\tutorials\\kegg_downloads\\reaction-enzyme-link\n",
      "C:\\Users\\filippo.castelli4\\Documents\\GitHub\\KEGGutils\\tutorials\\kegg_downloads\\reaction-info\n"
     ]
    }
   ],
   "source": [
    "kg.delete_cached_files()"
   ]
  },
  {
   "cell_type": "markdown",
   "metadata": {},
   "source": [
    "### What are `KEGGpathway`s?"
   ]
  },
  {
   "cell_type": "markdown",
   "metadata": {},
   "source": [
    "In the previous tutorial we've talked about `KEGGgraph`s and some of the derived classes like `KEGGlinkgraph` and `KEGGchain`, in this tutorial we'll see another derived class called `KEGGpathway`"
   ]
  },
  {
   "cell_type": "markdown",
   "metadata": {},
   "source": [
    "Most of **KEGG** importance derives from it's large catalogue of mapped pathways which helps to store and visualize the acquired knowledge on various types of processes, from metabolism, to disease mapping to drug developement. \n",
    "\n",
    "KEGG pathways are extremely etherogeneous in form and content and KEGG makes them available to the public either in their online website visualization or in form of *KGML files*: *KGML files* are .xml files with standardized in *KEGG Markup Language* which is a xml protocol particular to KEGG, you can find some infos on that [here](https://www.kegg.jp/kegg/xml/).\n",
    "\n",
    "KEGGutils manages can deal with all of the .xml file downloading, parsing and visualization for you with the help of the `KEGGpathway` class"
   ]
  },
  {
   "cell_type": "code",
   "execution_count": 5,
   "metadata": {},
   "outputs": [
    {
     "name": "stdout",
     "output_type": "stream",
     "text": [
      "KEGG Pathway:\n",
      "    Extends the NetworkX.DiGraph(), includes a parser to read KGML .xml files \n",
      "    \n",
      "    Parameters\n",
      "    ----------\n",
      "    kgml_file : str\n",
      "        location of a KGML .xml file to parse\n",
      "    pathway_id (optional) : str\n",
      "        pathway id for downloading from KEGG\n",
      "    tree (optional) : xml tree\n",
      "            xml tree for the patway\n",
      "        \n",
      "\n",
      "    Properties\n",
      "    ----------\n",
      "    title : str\n",
      "        title of the pathway\n",
      "    labels: dict\n",
      "        dictionary of node labels\n",
      "    idcode: str\n",
      "        id code of the pathway\n",
      "    tree: XML ElementTree\n",
      "        element tree for the KGML file\n",
      "    pos: dict\n",
      "        dictionary of graph node positions for plotting\n",
      "    nodedict: dict\n",
      "        dictionary of ENTRY occurrences, ordered by corresponding graph node\n",
      "    kgml_file: str\n",
      "        path to KGML .xml file to parse\n",
      "    kegg_image: img\n",
      "        pathway image downloaded from KEGG\n",
      "    reactions: dict\n",
      "        dictionary of reactions in the pathway, ordered by corresponding graph node\n",
      "    genes: dict\n",
      "        dictionary of genes in the pathway, ordered by corresponding graph node\n",
      "    maps: dict\n",
      "        dictionary of maps in the pathway, ordered by corresponding graph node\n",
      "    orthologs: dict\n",
      "        dictionary of orthologs in the pathway, ordered by corresponding graph node\n",
      "    enzymes: dict\n",
      "        dictionary of enzymes in the pathway, ordered by corresponding graph node\n",
      "    groups: dict\n",
      "        dictionary of groups in the pathway, ordered by corresponding graph node\n",
      "    brite_nodes: dict\n",
      "        dictionary of brite-style nodes in the pathway, ordered by corresponding graph node\n",
      "    other_nodes: dict\n",
      "        dictionary of unclassified nodes in the pathway, ordered by corresponding graph node\n",
      "    relations: dict\n",
      "        dictionary of relations in the pathway, ordered by corresponding graph edge\n",
      "    weblink : str\n",
      "        link to KEGG pathway page\n",
      "    elements: dict\n",
      "        dictionary of the previous dictionaries ordered by nodetype\n",
      "    element_keys: list\n",
      "        keys for elements\n",
      "    \n",
      "    Methods:\n",
      "    --------\n",
      "\n",
      "    KEGGpathway.parse_kgml(kgml_file):\n",
      "        parses a kgml file\n",
      "    KEGGpathway.draw():\n",
      "        Plots the pathway with networkx.draw_networkx() (note: KGML file format        is missing lot of additional information, for visualization purposes is        reccomended to use downloaded kegg images)\n",
      "    KEGGpathway.download_img():\n",
      "        Downloads the pathway visualization from KEGG and returns it\n",
      "    KEGGpathway.list_by_nodetype(nodetype):\n",
      "        Returns a list of corresponding nodetypes in the pathway.\n",
      "    KEGGpathway.get_references():\n",
      "        Returns a list of academic references to given pathway\n",
      "    \n"
     ]
    }
   ],
   "source": [
    "print(kg.KEGGpathway.__doc__)"
   ]
  },
  {
   "cell_type": "markdown",
   "metadata": {},
   "source": [
    "Let's build our first `KEGGpathway`: we'll start from selecting a pathway identifier from the **KEGG** database (note that you can provide your own KGML file instead or directly use an XML tree object if it's compatible with KGML standard)"
   ]
  },
  {
   "cell_type": "code",
   "execution_count": 6,
   "metadata": {},
   "outputs": [
    {
     "name": "stdout",
     "output_type": "stream",
     "text": [
      "Infos on hsa05215 from KEGG:\n",
      "\n",
      "NAME        Prostate cancer - Homo sapiens (human)\n",
      "DESCRIPTION Prostate cancer constitutes a major health problem in Western countries. It is the most frequently diagnosed cancer among men and the second leading cause of male cancer deaths. The identification of key molecular alterations in prostate-cancer cells implicates carcinogen defenses (GSTP1), growth-factor-signaling pathways (NKX3.1, PTEN, and p27), and androgens (AR) as critical determinants of the phenotype of prostate-cancer cells. Glutathione S-transferases (GSTP1) are detoxifying enzymes. Cells of prostatic intraepithelial neoplasia, devoid of GSTP1, undergo genomic damage mediated by carcinogens. NKX3.1, PTEN, and p27 regulate the growth and survival of prostate cells in the normal prostate. Inadequate levels of PTEN and NKX3.1 lead to a reduction in p27 levels and to increased proliferation and decreased apoptosis. Androgen receptor (AR) is a transcription factor that is normally activated by its androgen ligand. During androgen withdrawal therapy, the AR signal transduction pathway also could be activated by amplification of the AR gene, by AR gene mutations, or by altered activity of AR coactivators. Through these mechanisms, tumor cells lead to the emergence of androgen-independent prostate cancer.\n",
      "CLASS       Human Diseases; Cancers: Specific types\n"
     ]
    }
   ],
   "source": [
    "kg.get_infos(\"hsa05215\")"
   ]
  },
  {
   "cell_type": "markdown",
   "metadata": {},
   "source": [
    "and then we just need to initialize a `KEGGpathway` object passing `pathway_id` to it's constructor"
   ]
  },
  {
   "cell_type": "code",
   "execution_count": 7,
   "metadata": {},
   "outputs": [
    {
     "name": "stdout",
     "output_type": "stream",
     "text": [
      "Prostate cancer\n"
     ]
    }
   ],
   "source": [
    "pathway = kg.KEGGpathway(pathway_id = \"hsa05215\")\n",
    "print(pathway.title)"
   ]
  },
  {
   "cell_type": "markdown",
   "metadata": {},
   "source": [
    "`KEGGpathway`s always have a `weblink` attribute to make the integration with **KEGG** online webservices as seamless as possible"
   ]
  },
  {
   "cell_type": "code",
   "execution_count": 8,
   "metadata": {},
   "outputs": [
    {
     "name": "stdout",
     "output_type": "stream",
     "text": [
      "http://www.kegg.jp/kegg-bin/show_pathway?hsa05215\n"
     ]
    }
   ],
   "source": [
    "print(pathway.weblink)"
   ]
  },
  {
   "cell_type": "markdown",
   "metadata": {},
   "source": [
    "The XML tree is accessible via the `tree` attribute, in case you need to pass it on the fly to another tool"
   ]
  },
  {
   "cell_type": "code",
   "execution_count": 9,
   "metadata": {},
   "outputs": [
    {
     "data": {
      "text/plain": [
       "<xml.etree.ElementTree.ElementTree at 0x289754f3ef0>"
      ]
     },
     "execution_count": 9,
     "metadata": {},
     "output_type": "execute_result"
    }
   ],
   "source": [
    "pathway.tree"
   ]
  },
  {
   "cell_type": "code",
   "execution_count": 10,
   "metadata": {},
   "outputs": [
    {
     "data": {
      "text/plain": [
       "{'name': 'path:hsa05215',\n",
       " 'org': 'hsa',\n",
       " 'number': '05215',\n",
       " 'title': 'Prostate cancer',\n",
       " 'image': 'http://www.kegg.jp/kegg/pathway/hsa/hsa05215.png',\n",
       " 'link': 'http://www.kegg.jp/kegg-bin/show_pathway?hsa05215'}"
      ]
     },
     "execution_count": 10,
     "metadata": {},
     "output_type": "execute_result"
    }
   ],
   "source": [
    "pathway.tree.getroot().attrib"
   ]
  },
  {
   "cell_type": "markdown",
   "metadata": {},
   "source": [
    "To get a list of available publication references you can use the `kg.get_references()` on any KEGG identifier, for`KEGGpathway`s, you can just call the `get_references()` method."
   ]
  },
  {
   "cell_type": "code",
   "execution_count": 11,
   "metadata": {},
   "outputs": [
    {
     "data": {
      "text/plain": [
       "[{'reference_hook': 'PMID:12878745',\n",
       "  'authors': 'Nelson WG, De Marzo AM, Isaacs WB.',\n",
       "  'title': 'Prostate cancer.',\n",
       "  'journal': 'DOI:10.1056/NEJMra021562'},\n",
       " {'reference_hook': 'PMID:15724144',\n",
       "  'authors': 'Li L, Ittmann MM, Ayala G, Tsai MJ, Amato RJ, Wheeler TM, Miles BJ, Kadmon D, Thompson TC.',\n",
       "  'title': 'The emerging role of the PI3-K-Akt pathway in prostate cancer progression.',\n",
       "  'journal': 'DOI:10.1038/sj.pcan.4500776'},\n",
       " {'reference_hook': 'PMID:16551847',\n",
       "  'authors': 'Pienta KJ, Bradley D.',\n",
       "  'title': 'Mechanisms underlying the development of androgen-independent prostate cancer.',\n",
       "  'journal': 'DOI:10.1158/1078-0432.CCR-06-0067'},\n",
       " {'reference_hook': 'PMID:11900250',\n",
       "  'authors': 'Feldman BJ, Feldman D.',\n",
       "  'title': 'The development of androgen-independent prostate cancer.',\n",
       "  'journal': 'DOI:10.1038/35094009'},\n",
       " {'reference_hook': 'PMID:15082523',\n",
       "  'authors': 'Heinlein CA, Chang C.',\n",
       "  'title': 'Androgen receptor in prostate cancer.',\n",
       "  'journal': 'DOI:10.1210/er.2002-0032'}]"
      ]
     },
     "execution_count": 11,
     "metadata": {},
     "output_type": "execute_result"
    }
   ],
   "source": [
    "references = pathway.get_references()\n",
    "\n",
    "references[:5]"
   ]
  },
  {
   "cell_type": "markdown",
   "metadata": {},
   "source": [
    "`KEGGpathway`s intrinsecally  `KEGGgraph`s and mantain all the attributes and methods `KEGGgraph`s have, like the `get_unique_nodetypes()` method"
   ]
  },
  {
   "cell_type": "code",
   "execution_count": 12,
   "metadata": {},
   "outputs": [
    {
     "data": {
      "text/plain": [
       "['compound', 'gene', 'group', 'map']"
      ]
     },
     "execution_count": 12,
     "metadata": {},
     "output_type": "execute_result"
    }
   ],
   "source": [
    "pathway.get_unique_nodetypes()"
   ]
  },
  {
   "cell_type": "markdown",
   "metadata": {},
   "source": [
    "with an addition to some special dictionaries, like `genes` and `relations` that give you quick access to particular nodetypes and edges"
   ]
  },
  {
   "cell_type": "code",
   "execution_count": 13,
   "metadata": {},
   "outputs": [
    {
     "data": {
      "text/plain": [
       "{'gene': 'hsa:5170',\n",
       " 'description': 'PDPK1, PDK1, PDPK2, PDPK2P, PRO0461',\n",
       " 'nodetype': 'gene',\n",
       " 'kegglink': 'http://www.kegg.jp/dbget-bin/www_bget?hsa:5170'}"
      ]
     },
     "execution_count": 13,
     "metadata": {},
     "output_type": "execute_result"
    }
   ],
   "source": [
    "pathway.genes['39']"
   ]
  },
  {
   "cell_type": "code",
   "execution_count": 14,
   "metadata": {},
   "outputs": [
    {
     "data": {
      "text/plain": [
       "{'nodes': ('hsa:5291', 'hsa:5170'),\n",
       " 'node_ids': ('49', '39'),\n",
       " 'relation_type': 'PPrel',\n",
       " 'subtypes': [('compound', 42), ('activation', '-->')]}"
      ]
     },
     "execution_count": 14,
     "metadata": {},
     "output_type": "execute_result"
    }
   ],
   "source": [
    "pathway.relations['49to39']"
   ]
  },
  {
   "cell_type": "markdown",
   "metadata": {},
   "source": [
    "Those dictionaries help us to navigate through `KEGGpathway` nodes and edges"
   ]
  },
  {
   "cell_type": "code",
   "execution_count": 15,
   "metadata": {},
   "outputs": [
    {
     "data": {
      "text/plain": [
       "{'relation_type': 'PPrel',\n",
       " 'subtypes': [('compound', 42), ('activation', '-->')]}"
      ]
     },
     "execution_count": 15,
     "metadata": {},
     "output_type": "execute_result"
    }
   ],
   "source": [
    "node_ids = pathway.relations['49to39']['node_ids']\n",
    "\n",
    "pathway.edges[node_ids]"
   ]
  },
  {
   "cell_type": "markdown",
   "metadata": {},
   "source": [
    "Additional dictionaries to help us plot the graph are provided, like a dict of graphical coordinates for each node"
   ]
  },
  {
   "cell_type": "code",
   "execution_count": 16,
   "metadata": {},
   "outputs": [
    {
     "data": {
      "text/plain": [
       "(470, -557)"
      ]
     },
     "execution_count": 16,
     "metadata": {},
     "output_type": "execute_result"
    }
   ],
   "source": [
    "pathway.pos['39']"
   ]
  },
  {
   "cell_type": "markdown",
   "metadata": {},
   "source": [
    "And a list of labels to facilitate plotting"
   ]
  },
  {
   "cell_type": "code",
   "execution_count": 17,
   "metadata": {},
   "outputs": [
    {
     "data": {
      "text/plain": [
       "'PDPK1, PDK1, PDPK2, PDPK2P, PRO0461'"
      ]
     },
     "execution_count": 17,
     "metadata": {},
     "output_type": "execute_result"
    }
   ],
   "source": [
    "pathway.labels['39']"
   ]
  },
  {
   "cell_type": "markdown",
   "metadata": {},
   "source": [
    "Some really basic pathway plotting is provided, but results are still in an alpha-state"
   ]
  },
  {
   "cell_type": "code",
   "execution_count": 18,
   "metadata": {},
   "outputs": [
    {
     "name": "stderr",
     "output_type": "stream",
     "text": [
      "C:\\Users\\filippo.castelli4\\AppData\\Local\\Continuum\\anaconda3\\envs\\KEGGenv\\lib\\site-packages\\networkx\\drawing\\nx_pylab.py:611: MatplotlibDeprecationWarning: isinstance(..., numbers.Number)\n",
      "  if cb.is_numlike(alpha):\n"
     ]
    },
    {
     "data": {
      "image/png": "[encoded data removed]",
      "text/plain": [
       "<Figure size 432x288 with 1 Axes>"
      ]
     },
     "metadata": {
      "needs_background": "light"
     },
     "output_type": "display_data"
    }
   ],
   "source": [
    "pathway.draw()"
   ]
  },
  {
   "cell_type": "markdown",
   "metadata": {},
   "source": [
    "Please beware that KGML file standard is not perfect for graphical representation as it often misses some important descriptors, for preliminary visualization I recommend using KEGG images when available, those can be downloaded using the `download_img()` method"
   ]
  },
  {
   "cell_type": "code",
   "execution_count": 19,
   "metadata": {},
   "outputs": [
    {
     "name": "stderr",
     "output_type": "stream",
     "text": [
      "INFO:root:> Downloading path-hsa05215-image from KEGG at http://rest.kegg.jp/get/path:hsa05215/image\n"
     ]
    },
    {
     "data": {
      "image/png": "[encoded data removed]",
      "text/plain": [
       "<Figure size 432x288 with 1 Axes>"
      ]
     },
     "metadata": {
      "needs_background": "light"
     },
     "output_type": "display_data"
    }
   ],
   "source": [
    "pathway.download_img()"
   ]
  },
  {
   "cell_type": "markdown",
   "metadata": {},
   "source": [
    "An url o the same image can be returned using the `return_url` option, or simply using the `imagelink` attribute"
   ]
  },
  {
   "cell_type": "code",
   "execution_count": 20,
   "metadata": {},
   "outputs": [
    {
     "name": "stdout",
     "output_type": "stream",
     "text": [
      "using pathway.download_img() : http://www.kegg.jp/kegg/pathway/hsa/hsa05215.png\n",
      "using pathway.imagelink : http://www.kegg.jp/kegg/pathway/hsa/hsa05215.png\n"
     ]
    },
    {
     "data": {
      "image/png": "[encoded data removed]",
      "text/plain": [
       "<Figure size 432x288 with 1 Axes>"
      ]
     },
     "metadata": {
      "needs_background": "light"
     },
     "output_type": "display_data"
    }
   ],
   "source": [
    "print(\"using pathway.download_img() : \" + pathway.download_img(return_url = True))\n",
    "print(\"using pathway.imagelink : \" + pathway.imagelink)"
   ]
  },
  {
   "cell_type": "markdown",
   "metadata": {},
   "source": [
    "And this concludes the short tutorial on `KEGGpathway` and the series of four tutorials: now it's about using and seeing what you can do with it."
   ]
  },
  {
   "cell_type": "markdown",
   "metadata": {},
   "source": [
    "The project is, of course, open to contributions and new features will be added in the near future, stay updated on the project's status on the GitHub page https://github.com/filippocastelli/KEGGutils/"
   ]
  }
 ],
 "metadata": {
  "kernelspec": {
   "display_name": "Python 3",
   "language": "python",
   "name": "python3"
  },
  "language_info": {
   "codemirror_mode": {
    "name": "ipython",
    "version": 3
   },
   "file_extension": ".py",
   "mimetype": "text/x-python",
   "name": "python",
   "nbconvert_exporter": "python",
   "pygments_lexer": "ipython3",
   "version": "3.6.7"
  }
 },
 "nbformat": 4,
 "nbformat_minor": 2
}
