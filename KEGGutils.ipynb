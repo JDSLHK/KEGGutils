{
 "cells": [
  {
   "cell_type": "code",
   "execution_count": 1,
   "metadata": {},
   "outputs": [],
   "source": [
    "import KEGGutils as kg"
   ]
  },
  {
   "cell_type": "code",
   "execution_count": 2,
   "metadata": {},
   "outputs": [
    {
     "name": "stdout",
     "output_type": "stream",
     "text": [
      "Downloading KEGG organism list...\n",
      "downloaded succesfully from http://rest.kegg.jp/list/organism\n",
      "Downloading database disease -> hsa...\n",
      "downloaded succesfully from http://rest.kegg.jp/link/hsa/disease\n"
     ]
    }
   ],
   "source": [
    "dis_gen = kg.kegg_graph(\"disease\", \"hsa\")"
   ]
  },
  {
   "cell_type": "code",
   "execution_count": 3,
   "metadata": {},
   "outputs": [
    {
     "name": "stdout",
     "output_type": "stream",
     "text": [
      "Downloading database hsa -> enzyme...\n",
      "downloaded succesfully from http://rest.kegg.jp/link/enzyme/hsa\n"
     ]
    }
   ],
   "source": [
    "genes_enzymes = kg.kegg_graph(\"hsa\", \"enzyme\")"
   ]
  },
  {
   "cell_type": "code",
   "execution_count": 4,
   "metadata": {},
   "outputs": [
    {
     "name": "stdout",
     "output_type": "stream",
     "text": [
      "Downloading database enzyme -> reaction...\n",
      "downloaded succesfully from http://rest.kegg.jp/link/reaction/enzyme\n"
     ]
    }
   ],
   "source": [
    "enzyme_reaction = kg.kegg_graph(\"enzyme\", \"reaction\")"
   ]
  },
  {
   "cell_type": "code",
   "execution_count": 5,
   "metadata": {},
   "outputs": [
    {
     "name": "stdout",
     "output_type": "stream",
     "text": [
      "Infos on ds:H00773 from KEGG:\n",
      "\n",
      "NAME        Autosomal dominant mental retardation\n",
      "DESCRIPTION Mental retardation (MR) is a neurodevelopmental disorder characterized by low intelligence quotient (IQ) and deficits in adaptive behaviors. Most MR genes identified so far were either located on the X chromosome or are associated with an autosomal recessive mode of inheritance. Recently, a lot of genes associated with autosomal dominant mental retardation have been identified.\n",
      "CATEGORY    Mental and behavioural disorder\n"
     ]
    }
   ],
   "source": [
    "kg.get_infos('ds:H00773', verbose = False)"
   ]
  },
  {
   "cell_type": "code",
   "execution_count": 8,
   "metadata": {},
   "outputs": [
    {
     "data": {
      "text/plain": [
       "['hsa:55777',\n",
       " 'hsa:81704',\n",
       " 'hsa:1013',\n",
       " 'hsa:84623',\n",
       " 'hsa:8831',\n",
       " 'hsa:2904',\n",
       " 'hsa:1859',\n",
       " 'hsa:2902',\n",
       " 'hsa:547',\n",
       " 'hsa:10369']"
      ]
     },
     "execution_count": 8,
     "metadata": {},
     "output_type": "execute_result"
    }
   ],
   "source": [
    "MR_genes = list(dis_gen['ds:H00773'])\n",
    "\n",
    "MR_genes[:10]"
   ]
  },
  {
   "cell_type": "code",
   "execution_count": 11,
   "metadata": {},
   "outputs": [],
   "source": [
    "MR_gene_enzyme_graph = kg.descendant_graph(genes_enzymes, MR_genes, name = 'MR_gene_enzyme')"
   ]
  },
  {
   "cell_type": "code",
   "execution_count": 15,
   "metadata": {},
   "outputs": [
    {
     "data": {
      "text/plain": [
       "['ec:2.7.10.2',\n",
       " 'ec:2.7.11.17',\n",
       " 'ec:2.7.12.1',\n",
       " 'ec:2.7.11.1',\n",
       " 'ec:2.3.2.26',\n",
       " 'ec:2.1.1.43',\n",
       " 'ec:3.2.1.169',\n",
       " 'ec:2.3.1.48']"
      ]
     },
     "execution_count": 15,
     "metadata": {},
     "output_type": "execute_result"
    }
   ],
   "source": [
    "MR_enzymes = kg.n get_nodetype_nodes(MR_gene_enzyme_graph, 'enzyme')\n",
    "MR_enzymes"
   ]
  },
  {
   "cell_type": "code",
   "execution_count": null,
   "metadata": {},
   "outputs": [],
   "source": []
  }
 ],
 "metadata": {
  "kernelspec": {
   "display_name": "Python 3",
   "language": "python",
   "name": "python3"
  },
  "language_info": {
   "codemirror_mode": {
    "name": "ipython",
    "version": 3
   },
   "file_extension": ".py",
   "mimetype": "text/x-python",
   "name": "python",
   "nbconvert_exporter": "python",
   "pygments_lexer": "ipython3",
   "version": "3.7.1"
  }
 },
 "nbformat": 4,
 "nbformat_minor": 2
}
