{
 "cells": [
  {
   "cell_type": "markdown",
   "metadata": {},
   "source": [
    "# KEGGutils Tutorial 2 : `KEGGgraph`s, `KEGGlinkgraph`s and `KEGGchain`s\n",
    "## .... redoing Tutorial 1 with different tools\n",
    "***"
   ]
  },
  {
   "cell_type": "markdown",
   "metadata": {},
   "source": [
    "<img src=\"../img/logo_cut.png\" alt=\"Drawing\" style=\"width: 350px;\"/>"
   ]
  },
  {
   "cell_type": "markdown",
   "metadata": {},
   "source": [
    "### First things first\n",
    "Let's make sure we imported `KEGGutils` ( and that we can find it in scope if we did not install it )"
   ]
  },
  {
   "cell_type": "code",
   "execution_count": 1,
   "metadata": {},
   "outputs": [],
   "source": [
    "import os,sys,inspect\n",
    "currentdir = os.path.dirname(os.path.abspath(inspect.getfile(inspect.currentframe())))\n",
    "parentdir = os.path.dirname(currentdir)\n",
    "sys.path.insert(0,parentdir)"
   ]
  },
  {
   "cell_type": "code",
   "execution_count": 2,
   "metadata": {},
   "outputs": [],
   "source": [
    "import KEGGutils as kg\n",
    "import networkx as nx"
   ]
  },
  {
   "cell_type": "markdown",
   "metadata": {},
   "source": [
    "and that that we have the last available version"
   ]
  },
  {
   "cell_type": "code",
   "execution_count": 3,
   "metadata": {},
   "outputs": [
    {
     "data": {
      "text/plain": [
       "'0.2.0'"
      ]
     },
     "execution_count": 3,
     "metadata": {},
     "output_type": "execute_result"
    }
   ],
   "source": [
    "kg.__version__"
   ]
  },
  {
   "cell_type": "markdown",
   "metadata": {},
   "source": [
    "let's remove the cached files to use the freshest available data"
   ]
  },
  {
   "cell_type": "code",
   "execution_count": 4,
   "metadata": {},
   "outputs": [
    {
     "name": "stdout",
     "output_type": "stream",
     "text": [
      "> deleting the following files from C:\\Users\\filippo.castelli4\\Documents\\GitHub\\KEGGutils\\tutorials\\kegg_downloads\n",
      "C:\\Users\\filippo.castelli4\\Documents\\GitHub\\KEGGutils\\tutorials\\kegg_downloads\\disease-info\n",
      "C:\\Users\\filippo.castelli4\\Documents\\GitHub\\KEGGutils\\tutorials\\kegg_downloads\\ds-H00773-description\n",
      "C:\\Users\\filippo.castelli4\\Documents\\GitHub\\KEGGutils\\tutorials\\kegg_downloads\\enzyme-hsa-link\n",
      "C:\\Users\\filippo.castelli4\\Documents\\GitHub\\KEGGutils\\tutorials\\kegg_downloads\\enzyme-info\n",
      "C:\\Users\\filippo.castelli4\\Documents\\GitHub\\KEGGutils\\tutorials\\kegg_downloads\\hsa-disease-link\n",
      "C:\\Users\\filippo.castelli4\\Documents\\GitHub\\KEGGutils\\tutorials\\kegg_downloads\\hsa-info\n",
      "C:\\Users\\filippo.castelli4\\Documents\\GitHub\\KEGGutils\\tutorials\\kegg_downloads\\reaction-enzyme-link\n",
      "C:\\Users\\filippo.castelli4\\Documents\\GitHub\\KEGGutils\\tutorials\\kegg_downloads\\reaction-info\n"
     ]
    }
   ],
   "source": [
    "kg.delete_cached_files()"
   ]
  },
  {
   "cell_type": "markdown",
   "metadata": {},
   "source": [
    "### Introducing `KEGGgraph`, `KEGGlinkgraph` and `KEGGchain`:"
   ]
  },
  {
   "cell_type": "markdown",
   "metadata": {},
   "source": [
    "In the previous tutorial we've seen how we can use `KEGGutil`'s function set to create and manage vanilla `networkx` graphs with KEGG data, in this tutorial we're gonna use some special graph-like classes designed specifically for KEGG data: `KEGGgraph`, `KEGGlinkgraph` and `KEGGchain`.\n",
    "\n",
    "`KEGGlinkgraph` and `KEGGchain` (as `KEGGpathway` which we'll se in the next tutorial ) are children of `KEGGgraph` which inherits from `netowrkx.Graph`: that means that you'll be able to use any `networkx` method on these objects and are not limited to `KEGGutils`'s tools."
   ]
  },
  {
   "cell_type": "code",
   "execution_count": 5,
   "metadata": {},
   "outputs": [
    {
     "name": "stdout",
     "output_type": "stream",
     "text": [
      "Base class from KEGGutils NetworkX compatible Graphs:\n",
      "    Directly inherits from networkx.Graph()\n",
      "\n",
      "    Methods\n",
      "    -------\n",
      "    list_by_nodetype(nodetype)\n",
      "        returns a dict of nodes for the given nodetype in the form {key: nodetype}\n",
      "    \n",
      "    connected_components()\n",
      "        returns a list of connected components\n",
      "    \n",
      "    linked_nodes(node)\n",
      "        returns a dict of nodes in the graph connected to a givne node in the form {key: nodetype}\n",
      "\n",
      "     graph_measures()\n",
      "        returns a list of graph characteristics\n",
      "    \n",
      "    shortest_path(source_node, target_node):\n",
      "        computes the shortest path between two nodes\n",
      "    \n",
      "    compose(othergraph, inplace = False)\n",
      "        returns graph composition between self and one or more other graphs\n",
      "    \n",
      "    neighbor_graph(nodedict, keep_isolated_nodes, inplace = False)\n",
      "        returns graph of internal neighbors to a given dict of nodes\n",
      "\n",
      "    get_unique_nodetypes()\n",
      "        returns unique nodetypes in graph\n",
      "\n",
      "    draw(layout = None)\n",
      "        plots the graph\n",
      "    \n",
      "    prune_isolated_nodes(inplace = False)\n",
      "        removes isolated nodes\n",
      "    \n"
     ]
    }
   ],
   "source": [
    "print(kg.KEGGgraph.__doc__)"
   ]
  },
  {
   "cell_type": "markdown",
   "metadata": {},
   "source": [
    "In this quick summary we can see the main methods that are common to all `KEGGgraph`s: we can see some of the tools that we used before like `neighbor_graph` "
   ]
  },
  {
   "cell_type": "code",
   "execution_count": 6,
   "metadata": {},
   "outputs": [
    {
     "name": "stdout",
     "output_type": "stream",
     "text": [
      "Neighbor Graph\n",
      "        \n",
      "        Parameters\n",
      "        ----------\n",
      "        nodelist : list\n",
      "            contains the nodes we wish to calculate the neighbor graph respect to\n",
      "        keep_isolated_nodes : bool, optional\n",
      "            Isolated nodes can be automatically removed selecting False (the default is True)\n",
      "        inplace : bool, optional\n",
      "            Substitutes the original graph with the neighbor graph (the default is False, which [default_description])\n",
      "        \n",
      "        Returns\n",
      "        -------\n",
      "        graph\n",
      "            neighbor graph\n",
      "        \n"
     ]
    }
   ],
   "source": [
    "print(kg.KEGGgraph.neighbor_graph.__doc__)"
   ]
  },
  {
   "cell_type": "markdown",
   "metadata": {},
   "source": [
    "and some tools we have not used yet like `compose` "
   ]
  },
  {
   "cell_type": "code",
   "execution_count": 7,
   "metadata": {},
   "outputs": [
    {
     "name": "stdout",
     "output_type": "stream",
     "text": [
      "Compose\n",
      "        Calculates composition between two or mre graphs\n",
      "        \n",
      "        Parameters\n",
      "        ----------\n",
      "        othergraph : KEGGgraph\n",
      "            Can be a single KEGGgraph, a list of graphs or a tuple of graphs, contains the other graphs you want to calculate composition respect to\n",
      "        inplace : bool, optional\n",
      "            If True the original graph calling the method is substituted by the composition (the default is False)\n",
      "        \n",
      "        Returns\n",
      "        -------\n",
      "        KEGGgraph\n",
      "            composed graph\n",
      "        \n"
     ]
    }
   ],
   "source": [
    "print(kg.KEGGgraph.compose.__doc__)"
   ]
  },
  {
   "cell_type": "markdown",
   "metadata": {},
   "source": [
    "if these seem to few that's because there are other methods hidden in the depths of `KEGGgraph` children classes, like the `KEGGlinkgraph` method `projected_graph`, that we used before "
   ]
  },
  {
   "cell_type": "code",
   "execution_count": 8,
   "metadata": {},
   "outputs": [
    {
     "name": "stdout",
     "output_type": "stream",
     "text": [
      "Projects the link graph on a subset of nodes\n",
      "        \n",
      "        Parameters\n",
      "        ----------\n",
      "        nodelist : list, optional\n",
      "            list of nodes you wish to project onto, if None automatically selects source nodes\n",
      "        name : str, optional\n",
      "            name of the graph\n",
      "        \n",
      "        \n",
      "        Returns\n",
      "        -------\n",
      "        graph\n",
      "            projection graph\n",
      "        \n"
     ]
    }
   ],
   "source": [
    "print(kg.KEGGlinkgraph.projected_graph.__doc__)"
   ]
  },
  {
   "cell_type": "markdown",
   "metadata": {},
   "source": [
    "and many other methods are scheduled for future developement."
   ]
  },
  {
   "cell_type": "markdown",
   "metadata": {},
   "source": [
    "### Using `KEGGlinkgraph`:"
   ]
  },
  {
   "cell_type": "markdown",
   "metadata": {},
   "source": [
    "Let's start our tutorial with a class that makes life easier whe dealing with KEGG LINK data: `KEGGlinkgraph`\n",
    "\n",
    "`KEGGlinkgraph`s are specifically meant to create biparite graphs between couples of KEGG databases automating the process of data retrieval and graph population"
   ]
  },
  {
   "cell_type": "code",
   "execution_count": 9,
   "metadata": {
    "scrolled": false
   },
   "outputs": [
    {
     "name": "stdout",
     "output_type": "stream",
     "text": [
      "KEGGlinkgraph class inherits from KEGGgraph\n",
      "    Can be used to build bipartite graphs from KEGG API LINK functionality \n",
      "    \n",
      "    Parameters\n",
      "    ----------\n",
      "    source_db : str\n",
      "        Source Database\n",
      "    target_db : str\n",
      "        Target Database\n",
      "\n",
      "    Properties\n",
      "    ----------\n",
      "    source_nodes : dict\n",
      "        dict of source nodes {node: nodetype}\n",
      "    target_nodes : dict\n",
      "        dict of target nodes {node: nodetype}\n",
      "    source_liked_db : list\n",
      "        list of databases connected to source in KEGG\n",
      "    target_linked_db : list\n",
      "        list of databases connected to target in KEGG\n",
      "    \n"
     ]
    }
   ],
   "source": [
    "print(kg.KEGGlinkgraph.__doc__)"
   ]
  },
  {
   "cell_type": "markdown",
   "metadata": {},
   "source": [
    "creating a bipartite graph between two databases is easy and only involves calling the constructor with the parameters `source_db` and `target_db`"
   ]
  },
  {
   "cell_type": "code",
   "execution_count": 10,
   "metadata": {},
   "outputs": [
    {
     "name": "stderr",
     "output_type": "stream",
     "text": [
      "INFO:root:> Downloading hsa-disease-link from KEGG at http://rest.kegg.jp/link/hsa/disease\n",
      "INFO:root:succesfully downloaded hsa-disease-link\n",
      "INFO:root:> Downloading enzyme-hsa-link from KEGG at http://rest.kegg.jp/link/enzyme/hsa\n",
      "INFO:root:succesfully downloaded enzyme-hsa-link\n",
      "INFO:root:> Downloading reaction-enzyme-link from KEGG at http://rest.kegg.jp/link/reaction/enzyme\n",
      "INFO:root:succesfully downloaded reaction-enzyme-link\n"
     ]
    }
   ],
   "source": [
    "dis_gene = kg.KEGGlinkgraph(source_db = \"disease\", target_db = \"hsa\")\n",
    "gene_enzyme = kg.KEGGlinkgraph(source_db = \"hsa\", target_db =\"enzyme\")\n",
    "enzyme_reaction = kg.KEGGlinkgraph(source_db = \"enzyme\", target_db = \"reaction\")"
   ]
  },
  {
   "cell_type": "code",
   "execution_count": 11,
   "metadata": {},
   "outputs": [
    {
     "name": "stdout",
     "output_type": "stream",
     "text": [
      "The KEGGlinkgraph disease_to_hsa is a bipartite graph that links disease database to hsa database \n"
     ]
    }
   ],
   "source": [
    "print(\"The KEGGlinkgraph {} is a bipartite graph that links {} database to {} database \".format(dis_gene.name,\n",
    "                                                                                                dis_gene.source_db,\n",
    "                                                                                                dis_gene.target_db))"
   ]
  },
  {
   "cell_type": "markdown",
   "metadata": {},
   "source": [
    "we can also have infos on source and target databases with a simple command:"
   ]
  },
  {
   "cell_type": "code",
   "execution_count": 12,
   "metadata": {},
   "outputs": [
    {
     "name": "stderr",
     "output_type": "stream",
     "text": [
      "INFO:root:Infos on hsa from KEGG:\n",
      "\n"
     ]
    },
    {
     "name": "stdout",
     "output_type": "stream",
     "text": [
      "T01001           Homo sapiens (human) KEGG Genes Database\n",
      "hsa              Release 90.0+/03-30, Mar 19\n",
      "                 Kanehisa Laboratories\n",
      "                 38,683 entries\n",
      "\n",
      "linked db        pathway\n",
      "                 brite\n",
      "                 module\n",
      "                 ko\n",
      "                 genome\n",
      "                 enzyme\n",
      "                 network\n",
      "                 disease\n",
      "                 drug\n",
      "                 ncbi-geneid\n",
      "                 ncbi-proteinid\n",
      "                 uniprot\n",
      "\n"
     ]
    }
   ],
   "source": [
    "dis_gene.target_infos()"
   ]
  },
  {
   "cell_type": "markdown",
   "metadata": {},
   "source": [
    "and easily check which other databases are linked to the current ones in KEGG"
   ]
  },
  {
   "cell_type": "code",
   "execution_count": 13,
   "metadata": {},
   "outputs": [
    {
     "data": {
      "text/plain": [
       "['pathway',\n",
       " 'brite',\n",
       " 'module',\n",
       " 'ko',\n",
       " 'genome',\n",
       " 'enzyme',\n",
       " 'network',\n",
       " 'disease',\n",
       " 'drug',\n",
       " 'ncbi-geneid',\n",
       " 'ncbi-proteinid',\n",
       " 'uniprot']"
      ]
     },
     "execution_count": 13,
     "metadata": {},
     "output_type": "execute_result"
    }
   ],
   "source": [
    "dis_gene.target_linked_db"
   ]
  },
  {
   "cell_type": "markdown",
   "metadata": {},
   "source": [
    "As before we wish to investigate a particular disease:"
   ]
  },
  {
   "cell_type": "code",
   "execution_count": 14,
   "metadata": {},
   "outputs": [
    {
     "data": {
      "text/plain": [
       "{'nodetype': 'disease', 'label': 'ds:H00773'}"
      ]
     },
     "execution_count": 14,
     "metadata": {},
     "output_type": "execute_result"
    }
   ],
   "source": [
    "dis_gene.nodes['ds:H00773']"
   ]
  },
  {
   "cell_type": "code",
   "execution_count": 15,
   "metadata": {},
   "outputs": [
    {
     "name": "stdout",
     "output_type": "stream",
     "text": [
      "Infos on ds:H00773 from KEGG:\n",
      "\n",
      "NAME        Autosomal dominant mental retardation\n",
      "DESCRIPTION Mental retardation (MR) is a neurodevelopmental disorder characterized by low intelligence quotient (IQ) and deficits in adaptive behaviors. Most MR genes identified so far were either located on the X chromosome or are associated with an autosomal recessive mode of inheritance. Recently, a lot of genes associated with autosomal dominant mental retardation have been identified.\n",
      "CATEGORY    Mental and behavioural disorder\n"
     ]
    }
   ],
   "source": [
    "kg.keggapi_get(\"ds:H00773\")"
   ]
  },
  {
   "cell_type": "markdown",
   "metadata": {},
   "source": [
    "we may want now to see which nodes are liked to the chosen disease, that can be done using the `linked_nodes` method"
   ]
  },
  {
   "cell_type": "code",
   "execution_count": 16,
   "metadata": {},
   "outputs": [
    {
     "data": {
      "text/plain": [
       "['hsa:55777',\n",
       " 'hsa:81704',\n",
       " 'hsa:1013',\n",
       " 'hsa:84623',\n",
       " 'hsa:8831',\n",
       " 'hsa:2904',\n",
       " 'hsa:1859',\n",
       " 'hsa:2902',\n",
       " 'hsa:547',\n",
       " 'hsa:10369']"
      ]
     },
     "execution_count": 16,
     "metadata": {},
     "output_type": "execute_result"
    }
   ],
   "source": [
    "ds_genes = dis_gene.linked_nodes(\"ds:H00773\")\n",
    "ds_genes[:10]"
   ]
  },
  {
   "cell_type": "markdown",
   "metadata": {},
   "source": [
    "we can have the same information in a dict-like format using the `return_dict` option"
   ]
  },
  {
   "cell_type": "code",
   "execution_count": 17,
   "metadata": {},
   "outputs": [
    {
     "data": {
      "text/plain": [
       "[('hsa:55777', 'hsa'),\n",
       " ('hsa:81704', 'hsa'),\n",
       " ('hsa:1013', 'hsa'),\n",
       " ('hsa:84623', 'hsa'),\n",
       " ('hsa:8831', 'hsa'),\n",
       " ('hsa:2904', 'hsa'),\n",
       " ('hsa:1859', 'hsa'),\n",
       " ('hsa:2902', 'hsa'),\n",
       " ('hsa:547', 'hsa'),\n",
       " ('hsa:10369', 'hsa')]"
      ]
     },
     "execution_count": 17,
     "metadata": {},
     "output_type": "execute_result"
    }
   ],
   "source": [
    "list(dis_gene.linked_nodes(\"ds:H00773\", return_dict = True).items())[:10]"
   ]
  },
  {
   "cell_type": "markdown",
   "metadata": {},
   "source": [
    "Let's narrow down our search in the `gene_enzyme` graph using the nodes  we just found and plot what we have"
   ]
  },
  {
   "cell_type": "code",
   "execution_count": 18,
   "metadata": {},
   "outputs": [
    {
     "name": "stderr",
     "output_type": "stream",
     "text": [
      "C:\\Users\\filippo.castelli4\\AppData\\Local\\Continuum\\anaconda3\\envs\\KEGGenv\\lib\\site-packages\\networkx\\drawing\\nx_pylab.py:611: MatplotlibDeprecationWarning: isinstance(..., numbers.Number)\n",
      "  if cb.is_numlike(alpha):\n"
     ]
    },
    {
     "data": {
      "image/png": "[encoded data removed]",
      "text/plain": [
       "<Figure size 432x288 with 1 Axes>"
      ]
     },
     "metadata": {
      "needs_background": "light"
     },
     "output_type": "display_data"
    }
   ],
   "source": [
    "ds_gene_enzyme = gene_enzyme.neighbor_graph(ds_genes)\n",
    "ds_gene_enzyme.draw(layout = \"kamada_kawai_layout\")"
   ]
  },
  {
   "cell_type": "markdown",
   "metadata": {},
   "source": [
    "if this plot is too confusing we can always choose to ignore the unconnected nodes using the `prune_isolated_nodes` method."
   ]
  },
  {
   "cell_type": "code",
   "execution_count": 19,
   "metadata": {},
   "outputs": [
    {
     "data": {
      "image/png": "[encoded data removed]",
      "text/plain": [
       "<Figure size 432x288 with 1 Axes>"
      ]
     },
     "metadata": {
      "needs_background": "light"
     },
     "output_type": "display_data"
    }
   ],
   "source": [
    "ds_gene_enzyme.prune_isolated_nodes().draw(layout = \"circular_layout\")"
   ]
  },
  {
   "cell_type": "markdown",
   "metadata": {},
   "source": [
    "note that all the `KEGGgraph` main methods are chainable, and that they won't have a permanent effect on the original graph unless the `inplace` option is set to True"
   ]
  },
  {
   "cell_type": "markdown",
   "metadata": {},
   "source": [
    "Let's dig down in our search selecting only the enzymes we're interested in the  `enzyme_reaction` graph"
   ]
  },
  {
   "cell_type": "code",
   "execution_count": 20,
   "metadata": {},
   "outputs": [],
   "source": [
    "ds_enzymes = ds_gene_enzyme.list_by_nodetype(\"enzyme\")\n",
    "ds_enzyme_reaction = enzyme_reaction.neighbor_graph(ds_enzymes)"
   ]
  },
  {
   "cell_type": "code",
   "execution_count": 21,
   "metadata": {},
   "outputs": [
    {
     "data": {
      "image/png": "[encoded data removed]",
      "text/plain": [
       "<Figure size 432x288 with 1 Axes>"
      ]
     },
     "metadata": {
      "needs_background": "light"
     },
     "output_type": "display_data"
    }
   ],
   "source": [
    "ds_enzyme_reaction.prune_isolated_nodes().draw()"
   ]
  },
  {
   "cell_type": "markdown",
   "metadata": {},
   "source": [
    "and finally we can project this last graph onto it's `enzyme` components, note that if we're trying a projection on a `KEGGlikgraph` without specifying a set of nodes to project onto, `KEGGutils` will assume you're projecting onto the `graph.source_nodes`"
   ]
  },
  {
   "cell_type": "code",
   "execution_count": 22,
   "metadata": {},
   "outputs": [
    {
     "data": {
      "image/png": "[encoded data removed]",
      "text/plain": [
       "<Figure size 432x288 with 1 Axes>"
      ]
     },
     "metadata": {
      "needs_background": "light"
     },
     "output_type": "display_data"
    }
   ],
   "source": [
    "ds_enzyme_reaction.projected_graph().draw()"
   ]
  },
  {
   "cell_type": "markdown",
   "metadata": {},
   "source": [
    "after all, `KEGGlinkgraph` class makes the operation a bit less clunky than in Tutorial 1 but wouldn't it be better if this could be achieved with one or two lines of code?"
   ]
  },
  {
   "cell_type": "markdown",
   "metadata": {},
   "source": [
    "### Introducing `KEGGchain`s:"
   ]
  },
  {
   "cell_type": "markdown",
   "metadata": {},
   "source": [
    "To deal with multiple interlinked databases and to facilitate data discovery, `KEGGutils` provides the `KEGGchain` class: if we have a series of sequentially linked databases we can chain them with a `KEGGchain`"
   ]
  },
  {
   "cell_type": "code",
   "execution_count": 23,
   "metadata": {},
   "outputs": [
    {
     "name": "stdout",
     "output_type": "stream",
     "text": [
      " KEGGchain\n",
      "    Can be used to build chains of KEGGlinkgraphs, builds a composed graph of sequentially linked databases\n",
      "\n",
      "    --------------\n",
      "    chain : list\n",
      "        list of databases, they have to be sequentially linked in KEGG\n",
      "\n",
      "    Properties\n",
      "    ----------\n",
      "\n",
      "    chain_dbs : list\n",
      "        list of databases\n",
      "    chain : list\n",
      "        list of chained KEGGlinkgraphs\n",
      "    directed_chain : diGraph\n",
      "        directed version of the chain\n",
      "        \n",
      "    \n"
     ]
    }
   ],
   "source": [
    "print(kg.KEGGchain.__doc__)"
   ]
  },
  {
   "cell_type": "code",
   "execution_count": 24,
   "metadata": {},
   "outputs": [
    {
     "name": "stderr",
     "output_type": "stream",
     "text": [
      "INFO:root:Infos on disease from KEGG:\n",
      "\n",
      "WARNING:root:> File hsa-disease-link already present in C:\\Users\\filippo.castelli4\\Documents\\GitHub\\KEGGutils\\tutorials\\kegg_downloads\n",
      "reading from chached file...\n",
      "INFO:root:Infos on hsa from KEGG:\n",
      "\n",
      "WARNING:root:> File enzyme-hsa-link already present in C:\\Users\\filippo.castelli4\\Documents\\GitHub\\KEGGutils\\tutorials\\kegg_downloads\n",
      "reading from chached file...\n",
      "INFO:root:Infos on enzyme from KEGG:\n",
      "\n",
      "WARNING:root:> File reaction-enzyme-link already present in C:\\Users\\filippo.castelli4\\Documents\\GitHub\\KEGGutils\\tutorials\\kegg_downloads\n",
      "reading from chached file...\n"
     ]
    }
   ],
   "source": [
    "mychain = kg.KEGGchain(chain = [\"disease\", \"hsa\", \"enzyme\", \"reaction\"])"
   ]
  },
  {
   "cell_type": "markdown",
   "metadata": {},
   "source": [
    "`KEGGchain`s are basically `KEGGgraph`s on steroids: while they're intrinsically an undirected `KEGGgraph` that combines multiple `KEGGlinkgraphs`, they have, as properties, a directed version of themselves and a list of the `KEGGlinkgraph`s that originated them in the first place"
   ]
  },
  {
   "cell_type": "code",
   "execution_count": 25,
   "metadata": {},
   "outputs": [
    {
     "name": "stdout",
     "output_type": "stream",
     "text": [
      "chains belong to <class 'KEGGutils.KEGGgraphs.KEGGchain'>\n",
      "They have a .chain property that is a list of KEGGlinkgraphs\n",
      "and a .directed_chain that is a DiGraph\n"
     ]
    }
   ],
   "source": [
    "print(\"chains belong to {}\".format(type(mychain)))\n",
    "print(\"They have a .chain property that is a {} of {}s\".format(type(mychain.chain).__name__,\n",
    "                                                               type(mychain.chain[0]).__name__))\n",
    "print(\"and a .directed_chain that is a {}\".format(type(mychain.directed_chain).__name__))"
   ]
  },
  {
   "cell_type": "markdown",
   "metadata": {},
   "source": [
    "this may seem a bit confusing at first but here's an explanatory [pic](https://i.imgflip.com/2xbwd2.jpg)"
   ]
  },
  {
   "cell_type": "markdown",
   "metadata": {},
   "source": [
    "They have a list of the `KEGGlinkgraph`s they combine"
   ]
  },
  {
   "cell_type": "code",
   "execution_count": 26,
   "metadata": {},
   "outputs": [
    {
     "data": {
      "text/plain": [
       "[<KEGGutils.KEGGgraphs.KEGGlinkgraph at 0x24b775dbd68>,\n",
       " <KEGGutils.KEGGgraphs.KEGGlinkgraph at 0x24b776cb400>,\n",
       " <KEGGutils.KEGGgraphs.KEGGlinkgraph at 0x24b776cb470>]"
      ]
     },
     "execution_count": 26,
     "metadata": {},
     "output_type": "execute_result"
    }
   ],
   "source": [
    "mychain.chain "
   ]
  },
  {
   "cell_type": "code",
   "execution_count": 27,
   "metadata": {},
   "outputs": [
    {
     "name": "stdout",
     "output_type": "stream",
     "text": [
      "The first chain element links disease to hsa,\n",
      "second chain element links hsa to enzyme,\n",
      "and third chain element links enzyme to reaction\n"
     ]
    }
   ],
   "source": [
    "print(\"The first chain element links {} to {},\".format(mychain.chain[0].source_db, mychain.chain[0].target_db))\n",
    "print(\"second chain element links {} to {},\".format(mychain.chain[1].source_db, mychain.chain[1].target_db))\n",
    "print(\"and third chain element links {} to {}\".format(mychain.chain[2].source_db, mychain.chain[2].target_db))"
   ]
  },
  {
   "cell_type": "markdown",
   "metadata": {},
   "source": [
    "and a directed version of the graph combination"
   ]
  },
  {
   "cell_type": "code",
   "execution_count": 28,
   "metadata": {},
   "outputs": [
    {
     "data": {
      "text/plain": [
       "True"
      ]
     },
     "execution_count": 28,
     "metadata": {},
     "output_type": "execute_result"
    }
   ],
   "source": [
    "mychain.directed_chain.is_directed()"
   ]
  },
  {
   "cell_type": "markdown",
   "metadata": {},
   "source": [
    "The two interesting methods `KEGGchain` provides are `directed_propagation()` and `projected_graph()`\n",
    "\n",
    "with `directed_propagation` we can choose to select from the chain only the nodes that are directly descending from a particular set of nodes up in the chain: "
   ]
  },
  {
   "cell_type": "code",
   "execution_count": 29,
   "metadata": {},
   "outputs": [
    {
     "name": "stdout",
     "output_type": "stream",
     "text": [
      "Directed propagation\n",
      "        Computes the subchain of nodes that are sequentially linked to nodelist\n",
      "        \n",
      "        Parameters\n",
      "        ----------\n",
      "        nodelist : list\n",
      "            list of nodes you wish to propagate from\n",
      "        chain_level : int, optional\n",
      "            If the nodes are not in the first level of the chain you need to specify which level they're in\n",
      "        inplace : bool, optional\n",
      "            if True propagates the changes to the original KEGGchain (the default is False])\n",
      "        return_directed : bool, optional\n",
      "            if True returns the directed chain instead of the original chain (the default is False)\n",
      "        \n"
     ]
    }
   ],
   "source": [
    "print(mychain.directed_propagation.__doc__)"
   ]
  },
  {
   "cell_type": "markdown",
   "metadata": {},
   "source": [
    "with `directed_propagation` we can choose to select from the chain only the nodes that are"
   ]
  },
  {
   "cell_type": "code",
   "execution_count": 30,
   "metadata": {},
   "outputs": [],
   "source": [
    "prop_chain = mychain.directed_propagation([\"ds:H00773\"])"
   ]
  },
  {
   "cell_type": "code",
   "execution_count": 31,
   "metadata": {},
   "outputs": [
    {
     "data": {
      "image/png": "[encoded data removed]",
      "text/plain": [
       "<Figure size 432x288 with 1 Axes>"
      ]
     },
     "metadata": {
      "needs_background": "light"
     },
     "output_type": "display_data"
    }
   ],
   "source": [
    "prop_chain.draw(layout = \"kamada_kawai_layout\")"
   ]
  },
  {
   "cell_type": "markdown",
   "metadata": {},
   "source": [
    "and with `projected_graph()` we can perform the same graph projection we did before in one easy step:"
   ]
  },
  {
   "cell_type": "code",
   "execution_count": 35,
   "metadata": {},
   "outputs": [
    {
     "name": "stdout",
     "output_type": "stream",
     "text": [
      "Projected Graph\n",
      "        Calculates the projection of a given chain level onto the next \n",
      "        \n",
      "        Parameters\n",
      "        ----------\n",
      "        chain_level : str\n",
      "            name of the interested chain level, if None projection of the second to last level is made onto the last (default is None)\n",
      "\n",
      "        Returns\n",
      "        -------\n",
      "        KEGGgraph\n",
      "            projected graph\n",
      "        \n"
     ]
    }
   ],
   "source": [
    "print(prop_chain.projected_graph.__doc__)"
   ]
  },
  {
   "cell_type": "code",
   "execution_count": 32,
   "metadata": {},
   "outputs": [
    {
     "data": {
      "image/png": "[encoded data removed]",
      "text/plain": [
       "<Figure size 432x288 with 1 Axes>"
      ]
     },
     "metadata": {
      "needs_background": "light"
     },
     "output_type": "display_data"
    }
   ],
   "source": [
    "prop_chain.projected_graph().draw()"
   ]
  },
  {
   "cell_type": "markdown",
   "metadata": {},
   "source": [
    "Considering that all the methods used before **are chainable** we can also perform the same exact set of operation in one single line:"
   ]
  },
  {
   "cell_type": "code",
   "execution_count": 36,
   "metadata": {},
   "outputs": [
    {
     "name": "stderr",
     "output_type": "stream",
     "text": [
      "INFO:root:Infos on disease from KEGG:\n",
      "\n",
      "WARNING:root:> File hsa-disease-link already present in C:\\Users\\filippo.castelli4\\Documents\\GitHub\\KEGGutils\\tutorials\\kegg_downloads\n",
      "reading from chached file...\n",
      "INFO:root:Infos on hsa from KEGG:\n",
      "\n",
      "WARNING:root:> File enzyme-hsa-link already present in C:\\Users\\filippo.castelli4\\Documents\\GitHub\\KEGGutils\\tutorials\\kegg_downloads\n",
      "reading from chached file...\n",
      "INFO:root:Infos on enzyme from KEGG:\n",
      "\n",
      "WARNING:root:> File reaction-enzyme-link already present in C:\\Users\\filippo.castelli4\\Documents\\GitHub\\KEGGutils\\tutorials\\kegg_downloads\n",
      "reading from chached file...\n",
      "C:\\Users\\filippo.castelli4\\AppData\\Local\\Continuum\\anaconda3\\envs\\KEGGenv\\lib\\site-packages\\networkx\\drawing\\nx_pylab.py:611: MatplotlibDeprecationWarning: isinstance(..., numbers.Number)\n",
      "  if cb.is_numlike(alpha):\n"
     ]
    },
    {
     "data": {
      "image/png": "[encoded data removed]",
      "text/plain": [
       "<Figure size 432x288 with 1 Axes>"
      ]
     },
     "metadata": {
      "needs_background": "light"
     },
     "output_type": "display_data"
    }
   ],
   "source": [
    "kg.KEGGchain(chain = [\"disease\", \"hsa\", \"enzyme\", \"reaction\"]).directed_propagation([\"ds:H00773\"]).projected_graph().draw()"
   ]
  },
  {
   "cell_type": "markdown",
   "metadata": {},
   "source": [
    "That concludes this tutorial on `KEGGgraph` and some of it's derived classes, in the next we're gonna see another derived class that's specifically meant for pathways."
   ]
  }
 ],
 "metadata": {
  "kernelspec": {
   "display_name": "Python 3",
   "language": "python",
   "name": "python3"
  },
  "language_info": {
   "codemirror_mode": {
    "name": "ipython",
    "version": 3
   },
   "file_extension": ".py",
   "mimetype": "text/x-python",
   "name": "python",
   "nbconvert_exporter": "python",
   "pygments_lexer": "ipython3",
   "version": "3.6.7"
  }
 },
 "nbformat": 4,
 "nbformat_minor": 2
}
